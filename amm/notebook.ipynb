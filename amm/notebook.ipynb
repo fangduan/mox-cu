{
 "cells": [
  {
   "cell_type": "code",
   "execution_count": null,
   "id": "933823bf",
   "metadata": {},
   "outputs": [],
   "source": [
    "from moccasin import setup_notebook\n",
    "setup_notebook()"
   ]
  },
  {
   "cell_type": "code",
   "execution_count": null,
   "id": "dc376d1c",
   "metadata": {},
   "outputs": [],
   "source": [
    "from moccasin.config import get_active_network\n",
    "\n",
    "print(get_active_network())"
   ]
  },
  {
   "cell_type": "code",
   "execution_count": null,
   "id": "8ceebee8",
   "metadata": {},
   "outputs": [],
   "source": [
    "import boa\n",
    "from moccasin.config import get_active_network, Network\n",
    "from boa.contracts.abi.abi_contract import ABIContract\n",
    "from typing import Tuple\n",
    "\n",
    "STARTING_ETH_BALANCE = int(1000e18)\n",
    "STARTING_USDC_BALANCE = int(100e6)\n",
    "STARTING_WETH_BALANCE = int(1e18)\n",
    "\n",
    "def _add_eth_balance():\n",
    "    boa.env.set_balance(boa.env.eoa, STARTING_ETH_BALANCE)\n",
    "\n",
    "\n",
    "def _add_token_balance(usdc: ABIContract, weth: ABIContract, active_network: Network):\n",
    "    my_address = boa.env.eoa\n",
    "    with boa.env.prank(usdc.owner()):\n",
    "        usdc.updateMasterMinter(my_address)\n",
    "    usdc.configureMinter(my_address, STARTING_USDC_BALANCE)\n",
    "    usdc.mint(my_address, STARTING_USDC_BALANCE)\n",
    "    weth.deposit(value=STARTING_WETH_BALANCE)\n",
    "\n",
    "def setup_script() -> Tuple[ABIContract, ABIContract, ABIContract, ABIContract]:\n",
    "    active_network = get_active_network()\n",
    "\n",
    "    print(\"Starting setup script...\")\n",
    "    usdc = active_network.manifest_named(\"usdc\")\n",
    "    weth = active_network.manifest_named(\"weth\")\n",
    "    aave_protocol_data_provider = active_network.manifest_named(\n",
    "        \"aave_protocol_data_provider\"\n",
    "    )\n",
    "\n",
    "    if active_network.is_local_or_forked_network():\n",
    "        _add_eth_balance()\n",
    "        _add_token_balance(usdc, weth, active_network)\n",
    "\n",
    "    print(\"Getting atokens, this may take a while...\")\n",
    "    a_tokens = aave_protocol_data_provider.getAllATokens()\n",
    "    a_usdc = None\n",
    "    a_weth = None\n",
    "\n",
    "    token_prefix = \"aEth\" if active_network.chain_id == 1 else \"aZks\"\n",
    "    for a_token in a_tokens:\n",
    "        if a_token[0] == f\"{token_prefix}USDC\":\n",
    "            a_usdc = active_network.manifest_named(\"usdc\", address=a_token[1])\n",
    "        if a_token[0] == f\"{token_prefix}WETH\":\n",
    "            a_weth = active_network.manifest_named(\"usdc\", address=a_token[1])\n",
    "\n",
    "    starting_usdc_balance = usdc.balanceOf(boa.env.eoa)\n",
    "    starting_weth_balance = weth.balanceOf(boa.env.eoa)\n",
    "\n",
    "    print(f\"Starting USDC balance: {starting_usdc_balance}\")\n",
    "    print(f\"Starting WETH balance: {starting_weth_balance}\")\n",
    "    print(f\"Starting aUSDC balance: {a_usdc.balanceOf(boa.env.eoa)}\")\n",
    "    print(f\"Starting aWETH balance: {a_weth.balanceOf(boa.env.eoa)}\")\n",
    "    return usdc, weth, a_usdc, a_weth\n",
    "\n",
    "def moccasin_main():\n",
    "    setup_script()\n",
    "\n",
    "moccasin_main()"
   ]
  }
 ],
 "metadata": {
  "kernelspec": {
   "display_name": "amm",
   "language": "python",
   "name": "python3"
  },
  "language_info": {
   "codemirror_mode": {
    "name": "ipython",
    "version": 3
   },
   "file_extension": ".py",
   "mimetype": "text/x-python",
   "name": "python",
   "nbconvert_exporter": "python",
   "pygments_lexer": "ipython3",
   "version": "3.13.7"
  }
 },
 "nbformat": 4,
 "nbformat_minor": 5
}
